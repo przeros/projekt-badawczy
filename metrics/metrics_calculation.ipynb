{
  "cells": [
    {
      "cell_type": "code",
      "execution_count": 39,
      "metadata": {
        "id": "OKQczSdIju7_"
      },
      "outputs": [],
      "source": [
        "from distance import levenshtein, jaccard\n",
        "from jiwer import wer, wil, mer, cer"
      ]
    },
    {
      "cell_type": "code",
      "execution_count": 29,
      "metadata": {
        "id": "ek6CeOpjju8A"
      },
      "outputs": [],
      "source": [
        "ground_truth_path = 'ground_truth.txt'\n",
        "prediction_path = 'prediction.txt'\n",
        "\n",
        "with open(ground_truth_path) as file:\n",
        "    ground_truth = [line.rstrip() for line in file]\n",
        "\n",
        "with open(prediction_path) as file:\n",
        "    prediction = [line.rstrip() for line in file]\n"
      ]
    },
    {
      "cell_type": "markdown",
      "metadata": {
        "id": "uEkqVaQiju8B"
      },
      "source": [
        "#### Distance package "
      ]
    },
    {
      "cell_type": "code",
      "execution_count": 30,
      "metadata": {
        "colab": {
          "base_uri": "https://localhost:8080/"
        },
        "id": "HvhqmnAdju8C",
        "outputId": "4ce878f0-8cd4-48de-a3ba-d9421eed4be6"
      },
      "outputs": [
        {
          "output_type": "execute_result",
          "data": {
            "text/plain": [
              "21"
            ]
          },
          "metadata": {},
          "execution_count": 30
        }
      ],
      "source": [
        "levenshtein(ground_truth, prediction)"
      ]
    },
    {
      "cell_type": "code",
      "execution_count": null,
      "metadata": {
        "id": "r7B4J_qLju8D",
        "outputId": "314a74bb-3f77-4571-87fd-6b3dc8d657ca"
      },
      "outputs": [
        {
          "data": {
            "text/plain": [
              "0.3471074380165289"
            ]
          },
          "execution_count": 33,
          "metadata": {},
          "output_type": "execute_result"
        }
      ],
      "source": [
        "jaccard(ground_truth, prediction)"
      ]
    },
    {
      "cell_type": "markdown",
      "metadata": {
        "id": "cTJaTUu9ju8E"
      },
      "source": [
        "#### Jiwer package "
      ]
    },
    {
      "cell_type": "code",
      "execution_count": 31,
      "metadata": {
        "colab": {
          "base_uri": "https://localhost:8080/"
        },
        "id": "amVXDJ2aju8E",
        "outputId": "101a62a0-e599-4fcd-ab37-3de029f7be03"
      },
      "outputs": [
        {
          "output_type": "execute_result",
          "data": {
            "text/plain": [
              "0.23"
            ]
          },
          "metadata": {},
          "execution_count": 31
        }
      ],
      "source": [
        "# word error rate\n",
        "wer(ground_truth, prediction)"
      ]
    },
    {
      "cell_type": "code",
      "execution_count": 34,
      "metadata": {
        "id": "qF_mOynOju8E",
        "outputId": "ea01d78b-c15c-42ac-b9c2-c462d090a04b",
        "colab": {
          "base_uri": "https://localhost:8080/"
        }
      },
      "outputs": [
        {
          "output_type": "execute_result",
          "data": {
            "text/plain": [
              "0.3881372549019607"
            ]
          },
          "metadata": {},
          "execution_count": 34
        }
      ],
      "source": [
        "# word information lost\n",
        "wil(ground_truth, prediction)"
      ]
    },
    {
      "cell_type": "code",
      "source": [
        "# match error rate\n",
        "mer(ground_truth, prediction)"
      ],
      "metadata": {
        "colab": {
          "base_uri": "https://localhost:8080/"
        },
        "id": "VufwNFyGo1Ip",
        "outputId": "2cf673f5-c7b6-4d2d-ead6-fab654852c3f"
      },
      "execution_count": 38,
      "outputs": [
        {
          "output_type": "execute_result",
          "data": {
            "text/plain": [
              "0.22549019607843138"
            ]
          },
          "metadata": {},
          "execution_count": 38
        }
      ]
    },
    {
      "cell_type": "code",
      "source": [
        "# character error rate\n",
        "cer(ground_truth, prediction)"
      ],
      "metadata": {
        "colab": {
          "base_uri": "https://localhost:8080/"
        },
        "id": "g5EkGzzlpwZx",
        "outputId": "8bac483a-ce9f-4900-d338-9500aea16b7a"
      },
      "execution_count": 40,
      "outputs": [
        {
          "output_type": "execute_result",
          "data": {
            "text/plain": [
              "0.06537530266343826"
            ]
          },
          "metadata": {},
          "execution_count": 40
        }
      ]
    }
  ],
  "metadata": {
    "kernelspec": {
      "display_name": "Python 3",
      "language": "python",
      "name": "python3"
    },
    "language_info": {
      "codemirror_mode": {
        "name": "ipython",
        "version": 3
      },
      "file_extension": ".py",
      "mimetype": "text/x-python",
      "name": "python",
      "nbconvert_exporter": "python",
      "pygments_lexer": "ipython3",
      "version": "3.10.5"
    },
    "orig_nbformat": 4,
    "colab": {
      "provenance": []
    }
  },
  "nbformat": 4,
  "nbformat_minor": 0
}